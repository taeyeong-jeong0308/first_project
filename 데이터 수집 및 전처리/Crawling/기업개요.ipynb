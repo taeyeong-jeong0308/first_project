{
 "cells": [
  {
   "cell_type": "markdown",
   "metadata": {},
   "source": [
    "# 기업개요 수집 및 정제\n",
    "## 1. 샘플 종목 5개 크롤링"
   ]
  },
  {
   "cell_type": "code",
   "execution_count": None,
   "metadata": {},
   "outputs": [],
   "source": [
    "import pandas as pd\n",
    "from selenium import webdriver\n",
    "from selenium.webdriver.chrome.service import Service\n",
    "from selenium.webdriver.common.by import By\n",
    "from webdriver_manager.chrome import ChromeDriverManager\n",
    "import time\n",
    "\n",
    "def crawl_company_info(code):\n",
    "    url = f\"https://comp.fnguide.com/SVO2/asp/SVD_Corp.asp?pGB=1&gicode={code}\"\n",
    "    options = webdriver.ChromeOptions()\n",
    "    options.add_argument('--headless')\n",
    "    options.add_argument('--no-sandbox')\n",
    "    options.add_argument('--disable-dev-shm-usage')\n",
    "\n",
    "    driver = webdriver.Chrome(service=Service(ChromeDriverManager().install()), options=options)\n",
    "    driver.get(url)\n",
    "    time.sleep(2)\n",
    "    data = []\n",
    "\n",
    "    def extract(xpath):\n",
    "        try:\n",
    "            rows = driver.find_elements(By.XPATH, xpath)\n",
    "            for row in rows:\n",
    "                th = row.find_element(By.TAG_NAME, 'th').text.strip()\n",
    "                td = row.find_element(By.TAG_NAME, 'td').text.strip()\n",
    "                data.append([th, td])\n",
    "        except:\n",
    "            pass\n",
    "\n",
    "    extract('//*[@id=\"corpGeneralInfo\"]/table/tbody/tr')\n",
    "    extract('//*[@id=\"compBody\"]/div[4]/div[1]/table/tbody/tr')\n",
    "    extract('//*[@id=\"compBody\"]/div[4]/div[2]/table/tbody/tr')\n",
    "    driver.quit()\n",
    "    return pd.DataFrame(data, columns=[\"항목\", \"값\"]).set_index(\"항목\").T\n",
    "\n",
    "sample_codes = ['A005930', 'A000660', 'A035420', 'A068270', 'A207940']\n",
    "dfs = []\n",
    "for code in sample_codes:\n",
    "    df = crawl_company_info(code)\n",
    "    df[\"종목코드\"] = code\n",
    "    dfs.append(df)\n",
    "final_df = pd.concat(dfs, ignore_index=True)\n",
    "final_df.to_csv(\"기업개요_샘플5개.csv\", index=False, encoding='utf-8-sig')\n",
    "print(\"✅ 저장 완료: 기업개요_샘플5개.csv\")"
   ]
  },
  {
   "cell_type": "markdown",
   "metadata": {},
   "source": [
    "## 2. 전체 기업에 대한 기업개요 크롤링"
   ]
  },
  {
   "cell_type": "code",
   "execution_count": None,
   "metadata": {},
   "outputs": [],
   "source": [
    "filepath = \"./데이터 수집 및 전처리/DART재무_코스피전체_2024기준 (1).xlsx\"\n",
    "df = pd.read_excel(filepath)\n",
    "codes = df[['종목코드', '종목명']].dropna()\n",
    "codes['종목코드'] = codes['종목코드'].astype(str).str.zfill(6)\n",
    "\n",
    "from selenium.webdriver.chrome.options import Options\n",
    "options = Options()\n",
    "options.add_argument('--headless')\n",
    "options.add_argument('--disable-gpu')\n",
    "options.add_argument('--no-sandbox')\n",
    "driver = webdriver.Chrome(service=Service(ChromeDriverManager().install()), options=options)\n",
    "\n",
    "results = []\n",
    "total = len(codes)\n",
    "for i, row in codes.iterrows():\n",
    "    code = row['종목코드']\n",
    "    name = row['종목명']\n",
    "    url = f\"https://comp.fnguide.com/SVO2/asp/SVD_Corp.asp?pGB=1&gicode=A{code}\"\n",
    "    try:\n",
    "        driver.get(url)\n",
    "        time.sleep(2)\n",
    "        element = driver.find_element(By.XPATH, '//*[@id=\"corpGeneralInfo\"]')\n",
    "        text = element.text.strip()\n",
    "        status = \"성공\"\n",
    "    except Exception as e:\n",
    "        text = f\"오류 발생: {e}\"\n",
    "        status = \"실패\"\n",
    "    results.append({'종목코드': code, '종목명': name, '기업개요': text})\n",
    "    print(f\"[{i+1}/{total}] {code} - {name} → {status}\")\n",
    "driver.quit()\n",
    "output_path = \"./데이터 수집 및 전처리/기업설명기업개요전체.csv\"\n",
    "result_df = pd.DataFrame(results)\n",
    "result_df.to_csv(output_path, index=False, encoding='utf-8-sig')\n",
    "print(f\"\\n✅ 전체 크롤링 완료! 결과 저장 위치:\\n{output_path}\")"
   ]
  },
  {
   "cell_type": "markdown",
   "metadata": {},
   "source": [
    "## 3. 기업개요 텍스트 정제 및 항목 추출"
   ]
  },
  {
   "cell_type": "code",
   "execution_count": None,
   "metadata": {},
   "outputs": [],
   "source": [
    "import re\n",
    "df = pd.read_csv('./데이터 수집 및 전처리/기업설명기업개요전체.csv', dtype={'종목코드': str})\n",
    "\n",
    "def extract_field(text, field):\n",
    "    try:\n",
    "        match = re.search(fr'{field}\\n([^\\n]+)', str(text))\n",
    "        return match.group(1).strip() if match else None\n",
    "    except:\n",
    "        return None\n",
    "\n",
    "def extract_phone(text):\n",
    "    match = re.search(r'(\\d{2,4}-\\d{3,4}-\\d{4})', str(text))\n",
    "    return match.group(1) if match else None\n",
    "\n",
    "def extract_homepage(text):\n",
    "    match = re.search(r'(https?://[^\\s\\n]+)', str(text))\n",
    "    return match.group(1) if match else None\n",
    "\n",
    "df['주소'] = df['기업개요'].apply(lambda x: extract_field(x, '주소'))\n",
    "df['설립일'] = df['기업개요'].apply(lambda x: extract_field(x, '설립일'))\n",
    "df['대표자'] = df['기업개요'].apply(lambda x: extract_field(x, '대표자'))\n",
    "df['전화번호'] = df['기업개요'].apply(extract_phone)\n",
    "df['홈페이지'] = df['기업개요'].apply(extract_homepage)\n",
    "df['설립연도'] = df['설립일'].apply(lambda x: str(x).split('-')[0] if pd.notnull(x) else None)\n",
    "\n",
    "output_path = \"기업개요_정리완료.csv\"\n",
    "df.to_csv(output_path, index=False, encoding='utf-8-sig')\n",
    "print(f\"✅ 기업개요 정리 완료: {output_path}\")"
   ]
  }
 ],
 "metadata": {
  "kernelspec": {
   "display_name": "Python 3",
   "language": "python",
   "name": "python3"
  },
  "language_info": {
   "name": "python",
   "version": "3.10"
  }
 },
 "nbformat": 4,
 "nbformat_minor": 5
}
